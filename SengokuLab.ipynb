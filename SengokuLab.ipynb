{
 "cells": [
  {
   "cell_type": "code",
   "execution_count": 1,
   "metadata": {},
   "outputs": [
    {
     "data": {
      "text/plain": [
       "4"
      ]
     },
     "execution_count": 1,
     "metadata": {},
     "output_type": "execute_result"
    }
   ],
   "source": [
    "2+2"
   ]
  },
  {
   "cell_type": "code",
   "execution_count": 2,
   "metadata": {},
   "outputs": [
    {
     "data": {
      "text/plain": [
       "-5"
      ]
     },
     "execution_count": 2,
     "metadata": {},
     "output_type": "execute_result"
    }
   ],
   "source": [
    "3-8"
   ]
  },
  {
   "cell_type": "code",
   "execution_count": 7,
   "metadata": {},
   "outputs": [
    {
     "data": {
      "text/plain": [
       "5400"
      ]
     },
     "execution_count": 7,
     "metadata": {},
     "output_type": "execute_result"
    }
   ],
   "source": [
    "width=60\n",
    "height=90\n",
    "width*height"
   ]
  },
  {
   "cell_type": "code",
   "execution_count": 8,
   "metadata": {
    "collapsed": true
   },
   "outputs": [],
   "source": [
    "def add(a,b):\n",
    "    return a+b"
   ]
  },
  {
   "cell_type": "code",
   "execution_count": 9,
   "metadata": {},
   "outputs": [
    {
     "data": {
      "text/plain": [
       "4"
      ]
     },
     "execution_count": 9,
     "metadata": {},
     "output_type": "execute_result"
    }
   ],
   "source": [
    "add(1,3)"
   ]
  },
  {
   "cell_type": "code",
   "execution_count": 10,
   "metadata": {
    "collapsed": true
   },
   "outputs": [],
   "source": [
    "def calc_tax(price, tax_rate=0.08):\n",
    "    return price+price*tax_rate"
   ]
  },
  {
   "cell_type": "code",
   "execution_count": 11,
   "metadata": {},
   "outputs": [
    {
     "data": {
      "text/plain": [
       "108.0"
      ]
     },
     "execution_count": 11,
     "metadata": {},
     "output_type": "execute_result"
    }
   ],
   "source": [
    "calc_tax(100)"
   ]
  },
  {
   "cell_type": "code",
   "execution_count": 14,
   "metadata": {},
   "outputs": [
    {
     "name": "stdout",
     "output_type": "stream",
     "text": [
      "1\n",
      "2\n",
      "Fizz\n",
      "4\n",
      "Buzz\n",
      "Fizz\n",
      "7\n",
      "8\n",
      "Fizz\n",
      "Buzz\n",
      "11\n",
      "Fizz\n",
      "13\n",
      "14\n",
      "FizzBuzz\n",
      "16\n",
      "17\n",
      "Fizz\n",
      "19\n",
      "Buzz\n",
      "Fizz\n",
      "22\n",
      "23\n",
      "Fizz\n",
      "Buzz\n",
      "26\n",
      "Fizz\n",
      "28\n",
      "29\n",
      "FizzBuzz\n",
      "31\n",
      "32\n",
      "Fizz\n",
      "34\n",
      "Buzz\n",
      "Fizz\n",
      "37\n",
      "38\n",
      "Fizz\n",
      "Buzz\n",
      "41\n",
      "Fizz\n",
      "43\n",
      "44\n",
      "FizzBuzz\n",
      "46\n",
      "47\n",
      "Fizz\n",
      "49\n",
      "Buzz\n",
      "Fizz\n",
      "52\n",
      "53\n",
      "Fizz\n",
      "Buzz\n",
      "56\n",
      "Fizz\n",
      "58\n",
      "59\n",
      "FizzBuzz\n",
      "61\n",
      "62\n",
      "Fizz\n",
      "64\n",
      "Buzz\n",
      "Fizz\n",
      "67\n",
      "68\n",
      "Fizz\n",
      "Buzz\n",
      "71\n",
      "Fizz\n",
      "73\n",
      "74\n",
      "FizzBuzz\n",
      "76\n",
      "77\n",
      "Fizz\n",
      "79\n",
      "Buzz\n",
      "Fizz\n",
      "82\n",
      "83\n",
      "Fizz\n",
      "Buzz\n",
      "86\n",
      "Fizz\n",
      "88\n",
      "89\n",
      "FizzBuzz\n",
      "91\n",
      "92\n",
      "Fizz\n",
      "94\n",
      "Buzz\n",
      "Fizz\n",
      "97\n",
      "98\n",
      "Fizz\n"
     ]
    }
   ],
   "source": [
    "#p32_fizzbuzz()関数を完成させる\n",
    "\n",
    "def fizzbuzz(num):\n",
    "    if num%3==0 and num%5==0:\n",
    "        return 'FizzBuzz'\n",
    "    elif num%3==0:\n",
    "        return 'Fizz'\n",
    "    elif num%5==0:\n",
    "        return 'Buzz'\n",
    "    else:\n",
    "        return str(num)\n",
    "\n",
    "for num in range(1,100):\n",
    "    print(fizzbuzz(num))"
   ]
  },
  {
   "cell_type": "code",
   "execution_count": 17,
   "metadata": {},
   "outputs": [
    {
     "data": {
      "text/plain": [
       "'head'"
      ]
     },
     "execution_count": 17,
     "metadata": {},
     "output_type": "execute_result"
    }
   ],
   "source": [
    "#例2.47\n",
    "\n",
    "def head_splitter(seq):\n",
    "    return seq[0], seq[1:]\n",
    "\n",
    "head, tail = head_splitter(['head','body', 'tail'])\n",
    "head"
   ]
  },
  {
   "cell_type": "code",
   "execution_count": 18,
   "metadata": {},
   "outputs": [
    {
     "data": {
      "text/plain": [
       "['body', 'tail']"
      ]
     },
     "execution_count": 18,
     "metadata": {},
     "output_type": "execute_result"
    }
   ],
   "source": [
    "tail"
   ]
  },
  {
   "cell_type": "code",
   "execution_count": 19,
   "metadata": {
    "collapsed": true
   },
   "outputs": [],
   "source": [
    "#5章"
   ]
  },
  {
   "cell_type": "markdown",
   "metadata": {},
   "source": [
    "markdown記法を利用できます。"
   ]
  },
  {
   "cell_type": "code",
   "execution_count": 34,
   "metadata": {
    "collapsed": true
   },
   "outputs": [],
   "source": [
    "import pandas as pd"
   ]
  },
  {
   "cell_type": "code",
   "execution_count": 35,
   "metadata": {
    "collapsed": true
   },
   "outputs": [],
   "source": [
    "import os"
   ]
  },
  {
   "cell_type": "code",
   "execution_count": 36,
   "metadata": {},
   "outputs": [
    {
     "data": {
      "text/plain": [
       "'/Users/godatomoki'"
      ]
     },
     "execution_count": 36,
     "metadata": {},
     "output_type": "execute_result"
    }
   ],
   "source": [
    "os.getcwd()"
   ]
  },
  {
   "cell_type": "code",
   "execution_count": 38,
   "metadata": {},
   "outputs": [
    {
     "data": {
      "text/html": [
       "<div>\n",
       "<style>\n",
       "    .dataframe thead tr:only-child th {\n",
       "        text-align: right;\n",
       "    }\n",
       "\n",
       "    .dataframe thead th {\n",
       "        text-align: left;\n",
       "    }\n",
       "\n",
       "    .dataframe tbody tr th {\n",
       "        vertical-align: top;\n",
       "    }\n",
       "</style>\n",
       "<table border=\"1\" class=\"dataframe\">\n",
       "  <thead>\n",
       "    <tr style=\"text-align: right;\">\n",
       "      <th></th>\n",
       "      <th>number</th>\n",
       "      <th>name</th>\n",
       "      <th>image</th>\n",
       "      <th>theme</th>\n",
       "      <th>subtheme</th>\n",
       "      <th>year</th>\n",
       "      <th>rating</th>\n",
       "      <th>pieces</th>\n",
       "      <th>minifigs</th>\n",
       "      <th>us_price</th>\n",
       "      <th>eu_price</th>\n",
       "      <th>owner</th>\n",
       "      <th>want_it</th>\n",
       "    </tr>\n",
       "  </thead>\n",
       "  <tbody>\n",
       "    <tr>\n",
       "      <th>0</th>\n",
       "      <td>10251.0</td>\n",
       "      <td>Brick Bank</td>\n",
       "      <td>https://images.brickset.com/sets/small/10251-1...</td>\n",
       "      <td>Advanced Models</td>\n",
       "      <td>Modular Buildings</td>\n",
       "      <td>2016</td>\n",
       "      <td>4.6</td>\n",
       "      <td>2380.0</td>\n",
       "      <td>5.0</td>\n",
       "      <td>169.99</td>\n",
       "      <td>149.99</td>\n",
       "      <td>7695.0</td>\n",
       "      <td>4949.0</td>\n",
       "    </tr>\n",
       "    <tr>\n",
       "      <th>1</th>\n",
       "      <td>10252.0</td>\n",
       "      <td>Volkswagen Beetle</td>\n",
       "      <td>https://images.brickset.com/sets/small/10252-1...</td>\n",
       "      <td>Advanced Models</td>\n",
       "      <td>Vehicles</td>\n",
       "      <td>2016</td>\n",
       "      <td>5.0</td>\n",
       "      <td>1167.0</td>\n",
       "      <td>NaN</td>\n",
       "      <td>99.99</td>\n",
       "      <td>89.99</td>\n",
       "      <td>4185.0</td>\n",
       "      <td>2502.0</td>\n",
       "    </tr>\n",
       "    <tr>\n",
       "      <th>2</th>\n",
       "      <td>10253.0</td>\n",
       "      <td>Big Ben</td>\n",
       "      <td>https://images.brickset.com/sets/small/10253-1...</td>\n",
       "      <td>Advanced Models</td>\n",
       "      <td>Buildings</td>\n",
       "      <td>2016</td>\n",
       "      <td>5.0</td>\n",
       "      <td>4163.0</td>\n",
       "      <td>NaN</td>\n",
       "      <td>249.99</td>\n",
       "      <td>219.99</td>\n",
       "      <td>2323.0</td>\n",
       "      <td>2916.0</td>\n",
       "    </tr>\n",
       "    <tr>\n",
       "      <th>3</th>\n",
       "      <td>10254.0</td>\n",
       "      <td>Winter Holiday Train</td>\n",
       "      <td>https://images.brickset.com/sets/small/10254-1...</td>\n",
       "      <td>Advanced Models</td>\n",
       "      <td>Winter Village</td>\n",
       "      <td>2016</td>\n",
       "      <td>4.6</td>\n",
       "      <td>734.0</td>\n",
       "      <td>5.0</td>\n",
       "      <td>99.99</td>\n",
       "      <td>89.99</td>\n",
       "      <td>4955.0</td>\n",
       "      <td>1900.0</td>\n",
       "    </tr>\n",
       "    <tr>\n",
       "      <th>4</th>\n",
       "      <td>10654.0</td>\n",
       "      <td>XL Creative Brick Box</td>\n",
       "      <td>https://images.brickset.com/sets/small/10654-1...</td>\n",
       "      <td>Classic</td>\n",
       "      <td>Basic Set</td>\n",
       "      <td>2016</td>\n",
       "      <td>NaN</td>\n",
       "      <td>1600.0</td>\n",
       "      <td>NaN</td>\n",
       "      <td>NaN</td>\n",
       "      <td>59.99</td>\n",
       "      <td>279.0</td>\n",
       "      <td>170.0</td>\n",
       "    </tr>\n",
       "  </tbody>\n",
       "</table>\n",
       "</div>"
      ],
      "text/plain": [
       "    number                   name  \\\n",
       "0  10251.0             Brick Bank   \n",
       "1  10252.0      Volkswagen Beetle   \n",
       "2  10253.0                Big Ben   \n",
       "3  10254.0   Winter Holiday Train   \n",
       "4  10654.0  XL Creative Brick Box   \n",
       "\n",
       "                                               image            theme  \\\n",
       "0  https://images.brickset.com/sets/small/10251-1...  Advanced Models   \n",
       "1  https://images.brickset.com/sets/small/10252-1...  Advanced Models   \n",
       "2  https://images.brickset.com/sets/small/10253-1...  Advanced Models   \n",
       "3  https://images.brickset.com/sets/small/10254-1...  Advanced Models   \n",
       "4  https://images.brickset.com/sets/small/10654-1...          Classic   \n",
       "\n",
       "            subtheme  year  rating  pieces  minifigs  us_price  eu_price  \\\n",
       "0  Modular Buildings  2016     4.6  2380.0       5.0    169.99    149.99   \n",
       "1           Vehicles  2016     5.0  1167.0       NaN     99.99     89.99   \n",
       "2          Buildings  2016     5.0  4163.0       NaN    249.99    219.99   \n",
       "3     Winter Village  2016     4.6   734.0       5.0     99.99     89.99   \n",
       "4          Basic Set  2016     NaN  1600.0       NaN       NaN     59.99   \n",
       "\n",
       "    owner  want_it  \n",
       "0  7695.0   4949.0  \n",
       "1  4185.0   2502.0  \n",
       "2  2323.0   2916.0  \n",
       "3  4955.0   1900.0  \n",
       "4   279.0    170.0  "
      ]
     },
     "execution_count": 38,
     "metadata": {},
     "output_type": "execute_result"
    }
   ],
   "source": [
    "CSV_URL='https://raw.githubusercontent.com/pyfirst/samplecode/master/4_scraping/lego_scraper/brickset2016.csv'\n",
    "lego_df=pd.read_csv(CSV_URL)\n",
    "lego_df.head()"
   ]
  },
  {
   "cell_type": "code",
   "execution_count": 39,
   "metadata": {},
   "outputs": [
    {
     "data": {
      "text/plain": [
       "number      float64\n",
       "name         object\n",
       "image        object\n",
       "theme        object\n",
       "subtheme     object\n",
       "year          int64\n",
       "rating      float64\n",
       "pieces      float64\n",
       "minifigs    float64\n",
       "us_price    float64\n",
       "eu_price    float64\n",
       "owner       float64\n",
       "want_it     float64\n",
       "dtype: object"
      ]
     },
     "execution_count": 39,
     "metadata": {},
     "output_type": "execute_result"
    }
   ],
   "source": [
    "lego_df.dtypes"
   ]
  },
  {
   "cell_type": "code",
   "execution_count": 41,
   "metadata": {},
   "outputs": [
    {
     "name": "stdout",
     "output_type": "stream",
     "text": [
      "全体の行数: 828\n"
     ]
    },
    {
     "data": {
      "text/plain": [
       "number      104\n",
       "name          0\n",
       "image        20\n",
       "theme         0\n",
       "subtheme    116\n",
       "year          0\n",
       "rating      509\n",
       "pieces      256\n",
       "minifigs    429\n",
       "us_price    304\n",
       "eu_price    356\n",
       "owner        13\n",
       "want_it      13\n",
       "dtype: int64"
      ]
     },
     "execution_count": 41,
     "metadata": {},
     "output_type": "execute_result"
    }
   ],
   "source": [
    "print('全体の行数:',len(lego_df))\n",
    "lego_df.isnull().sum()"
   ]
  },
  {
   "cell_type": "code",
   "execution_count": 46,
   "metadata": {},
   "outputs": [
    {
     "name": "stdout",
     "output_type": "stream",
     "text": [
      "dropna 実行前: 828\n",
      "dropna 実行後: 438\n"
     ]
    }
   ],
   "source": [
    "print('dropna 実行前:',len(lego_df))\n",
    "lego_df.dropna(subset=['number', 'us_price', 'pieces'], inplace=True)\n",
    "\n",
    "print('dropna 実行後:', len(lego_df))"
   ]
  },
  {
   "cell_type": "code",
   "execution_count": 47,
   "metadata": {},
   "outputs": [
    {
     "data": {
      "text/html": [
       "<div>\n",
       "<style>\n",
       "    .dataframe thead tr:only-child th {\n",
       "        text-align: right;\n",
       "    }\n",
       "\n",
       "    .dataframe thead th {\n",
       "        text-align: left;\n",
       "    }\n",
       "\n",
       "    .dataframe tbody tr th {\n",
       "        vertical-align: top;\n",
       "    }\n",
       "</style>\n",
       "<table border=\"1\" class=\"dataframe\">\n",
       "  <thead>\n",
       "    <tr style=\"text-align: right;\">\n",
       "      <th></th>\n",
       "      <th>name</th>\n",
       "      <th>image</th>\n",
       "      <th>theme</th>\n",
       "      <th>subtheme</th>\n",
       "      <th>year</th>\n",
       "      <th>rating</th>\n",
       "      <th>pieces</th>\n",
       "      <th>minifigs</th>\n",
       "      <th>us_price</th>\n",
       "      <th>eu_price</th>\n",
       "      <th>owner</th>\n",
       "      <th>want_it</th>\n",
       "    </tr>\n",
       "    <tr>\n",
       "      <th>number</th>\n",
       "      <th></th>\n",
       "      <th></th>\n",
       "      <th></th>\n",
       "      <th></th>\n",
       "      <th></th>\n",
       "      <th></th>\n",
       "      <th></th>\n",
       "      <th></th>\n",
       "      <th></th>\n",
       "      <th></th>\n",
       "      <th></th>\n",
       "      <th></th>\n",
       "    </tr>\n",
       "  </thead>\n",
       "  <tbody>\n",
       "    <tr>\n",
       "      <th>10251.0</th>\n",
       "      <td>Brick Bank</td>\n",
       "      <td>https://images.brickset.com/sets/small/10251-1...</td>\n",
       "      <td>Advanced Models</td>\n",
       "      <td>Modular Buildings</td>\n",
       "      <td>2016</td>\n",
       "      <td>4.6</td>\n",
       "      <td>2380.0</td>\n",
       "      <td>5.0</td>\n",
       "      <td>169.99</td>\n",
       "      <td>149.99</td>\n",
       "      <td>7695.0</td>\n",
       "      <td>4949.0</td>\n",
       "    </tr>\n",
       "    <tr>\n",
       "      <th>10252.0</th>\n",
       "      <td>Volkswagen Beetle</td>\n",
       "      <td>https://images.brickset.com/sets/small/10252-1...</td>\n",
       "      <td>Advanced Models</td>\n",
       "      <td>Vehicles</td>\n",
       "      <td>2016</td>\n",
       "      <td>5.0</td>\n",
       "      <td>1167.0</td>\n",
       "      <td>NaN</td>\n",
       "      <td>99.99</td>\n",
       "      <td>89.99</td>\n",
       "      <td>4185.0</td>\n",
       "      <td>2502.0</td>\n",
       "    </tr>\n",
       "  </tbody>\n",
       "</table>\n",
       "</div>"
      ],
      "text/plain": [
       "                      name                                              image  \\\n",
       "number                                                                          \n",
       "10251.0         Brick Bank  https://images.brickset.com/sets/small/10251-1...   \n",
       "10252.0  Volkswagen Beetle  https://images.brickset.com/sets/small/10252-1...   \n",
       "\n",
       "                   theme           subtheme  year  rating  pieces  minifigs  \\\n",
       "number                                                                        \n",
       "10251.0  Advanced Models  Modular Buildings  2016     4.6  2380.0       5.0   \n",
       "10252.0  Advanced Models           Vehicles  2016     5.0  1167.0       NaN   \n",
       "\n",
       "         us_price  eu_price   owner  want_it  \n",
       "number                                        \n",
       "10251.0    169.99    149.99  7695.0   4949.0  \n",
       "10252.0     99.99     89.99  4185.0   2502.0  "
      ]
     },
     "execution_count": 47,
     "metadata": {},
     "output_type": "execute_result"
    }
   ],
   "source": [
    "lego_df.set_index('number', inplace=True)\n",
    "lego_df.head(2)"
   ]
  },
  {
   "cell_type": "code",
   "execution_count": 51,
   "metadata": {},
   "outputs": [
    {
     "data": {
      "text/html": [
       "<div>\n",
       "<style>\n",
       "    .dataframe thead tr:only-child th {\n",
       "        text-align: right;\n",
       "    }\n",
       "\n",
       "    .dataframe thead th {\n",
       "        text-align: left;\n",
       "    }\n",
       "\n",
       "    .dataframe tbody tr th {\n",
       "        vertical-align: top;\n",
       "    }\n",
       "</style>\n",
       "<table border=\"1\" class=\"dataframe\">\n",
       "  <thead>\n",
       "    <tr style=\"text-align: right;\">\n",
       "      <th></th>\n",
       "      <th>theme</th>\n",
       "      <th>name</th>\n",
       "      <th>us_price</th>\n",
       "    </tr>\n",
       "    <tr>\n",
       "      <th>number</th>\n",
       "      <th></th>\n",
       "      <th></th>\n",
       "      <th></th>\n",
       "    </tr>\n",
       "  </thead>\n",
       "  <tbody>\n",
       "    <tr>\n",
       "      <th>10251.0</th>\n",
       "      <td>Advanced Models</td>\n",
       "      <td>Brick Bank</td>\n",
       "      <td>169.99</td>\n",
       "    </tr>\n",
       "    <tr>\n",
       "      <th>10252.0</th>\n",
       "      <td>Advanced Models</td>\n",
       "      <td>Volkswagen Beetle</td>\n",
       "      <td>99.99</td>\n",
       "    </tr>\n",
       "    <tr>\n",
       "      <th>10253.0</th>\n",
       "      <td>Advanced Models</td>\n",
       "      <td>Big Ben</td>\n",
       "      <td>249.99</td>\n",
       "    </tr>\n",
       "    <tr>\n",
       "      <th>10254.0</th>\n",
       "      <td>Advanced Models</td>\n",
       "      <td>Winter Holiday Train</td>\n",
       "      <td>99.99</td>\n",
       "    </tr>\n",
       "    <tr>\n",
       "      <th>10702.0</th>\n",
       "      <td>Classic</td>\n",
       "      <td>Creative Building Set</td>\n",
       "      <td>29.99</td>\n",
       "    </tr>\n",
       "  </tbody>\n",
       "</table>\n",
       "</div>"
      ],
      "text/plain": [
       "                   theme                   name  us_price\n",
       "number                                                   \n",
       "10251.0  Advanced Models             Brick Bank    169.99\n",
       "10252.0  Advanced Models      Volkswagen Beetle     99.99\n",
       "10253.0  Advanced Models                Big Ben    249.99\n",
       "10254.0  Advanced Models   Winter Holiday Train     99.99\n",
       "10702.0          Classic  Creative Building Set     29.99"
      ]
     },
     "execution_count": 51,
     "metadata": {},
     "output_type": "execute_result"
    }
   ],
   "source": [
    "#5.15\n",
    "\n",
    "lego_df[['theme', 'name', 'us_price']].head()"
   ]
  },
  {
   "cell_type": "code",
   "execution_count": 52,
   "metadata": {},
   "outputs": [
    {
     "data": {
      "text/html": [
       "<div>\n",
       "<style>\n",
       "    .dataframe thead tr:only-child th {\n",
       "        text-align: right;\n",
       "    }\n",
       "\n",
       "    .dataframe thead th {\n",
       "        text-align: left;\n",
       "    }\n",
       "\n",
       "    .dataframe tbody tr th {\n",
       "        vertical-align: top;\n",
       "    }\n",
       "</style>\n",
       "<table border=\"1\" class=\"dataframe\">\n",
       "  <thead>\n",
       "    <tr style=\"text-align: right;\">\n",
       "      <th></th>\n",
       "      <th>theme</th>\n",
       "      <th>subtheme</th>\n",
       "      <th>year</th>\n",
       "      <th>name</th>\n",
       "      <th>minifigs</th>\n",
       "      <th>pieces</th>\n",
       "      <th>us_price</th>\n",
       "      <th>owner</th>\n",
       "      <th>want_it</th>\n",
       "    </tr>\n",
       "    <tr>\n",
       "      <th>number</th>\n",
       "      <th></th>\n",
       "      <th></th>\n",
       "      <th></th>\n",
       "      <th></th>\n",
       "      <th></th>\n",
       "      <th></th>\n",
       "      <th></th>\n",
       "      <th></th>\n",
       "      <th></th>\n",
       "    </tr>\n",
       "  </thead>\n",
       "  <tbody>\n",
       "    <tr>\n",
       "      <th>10251.0</th>\n",
       "      <td>Advanced Models</td>\n",
       "      <td>Modular Buildings</td>\n",
       "      <td>2016</td>\n",
       "      <td>Brick Bank</td>\n",
       "      <td>5.0</td>\n",
       "      <td>2380.0</td>\n",
       "      <td>169.99</td>\n",
       "      <td>7695.0</td>\n",
       "      <td>4949.0</td>\n",
       "    </tr>\n",
       "    <tr>\n",
       "      <th>10252.0</th>\n",
       "      <td>Advanced Models</td>\n",
       "      <td>Vehicles</td>\n",
       "      <td>2016</td>\n",
       "      <td>Volkswagen Beetle</td>\n",
       "      <td>NaN</td>\n",
       "      <td>1167.0</td>\n",
       "      <td>99.99</td>\n",
       "      <td>4185.0</td>\n",
       "      <td>2502.0</td>\n",
       "    </tr>\n",
       "    <tr>\n",
       "      <th>10253.0</th>\n",
       "      <td>Advanced Models</td>\n",
       "      <td>Buildings</td>\n",
       "      <td>2016</td>\n",
       "      <td>Big Ben</td>\n",
       "      <td>NaN</td>\n",
       "      <td>4163.0</td>\n",
       "      <td>249.99</td>\n",
       "      <td>2323.0</td>\n",
       "      <td>2916.0</td>\n",
       "    </tr>\n",
       "    <tr>\n",
       "      <th>10254.0</th>\n",
       "      <td>Advanced Models</td>\n",
       "      <td>Winter Village</td>\n",
       "      <td>2016</td>\n",
       "      <td>Winter Holiday Train</td>\n",
       "      <td>5.0</td>\n",
       "      <td>734.0</td>\n",
       "      <td>99.99</td>\n",
       "      <td>4955.0</td>\n",
       "      <td>1900.0</td>\n",
       "    </tr>\n",
       "    <tr>\n",
       "      <th>10702.0</th>\n",
       "      <td>Classic</td>\n",
       "      <td>NaN</td>\n",
       "      <td>2016</td>\n",
       "      <td>Creative Building Set</td>\n",
       "      <td>NaN</td>\n",
       "      <td>583.0</td>\n",
       "      <td>29.99</td>\n",
       "      <td>664.0</td>\n",
       "      <td>253.0</td>\n",
       "    </tr>\n",
       "  </tbody>\n",
       "</table>\n",
       "</div>"
      ],
      "text/plain": [
       "                   theme           subtheme  year                   name  \\\n",
       "number                                                                     \n",
       "10251.0  Advanced Models  Modular Buildings  2016             Brick Bank   \n",
       "10252.0  Advanced Models           Vehicles  2016      Volkswagen Beetle   \n",
       "10253.0  Advanced Models          Buildings  2016                Big Ben   \n",
       "10254.0  Advanced Models     Winter Village  2016   Winter Holiday Train   \n",
       "10702.0          Classic                NaN  2016  Creative Building Set   \n",
       "\n",
       "         minifigs  pieces  us_price   owner  want_it  \n",
       "number                                                \n",
       "10251.0       5.0  2380.0    169.99  7695.0   4949.0  \n",
       "10252.0       NaN  1167.0     99.99  4185.0   2502.0  \n",
       "10253.0       NaN  4163.0    249.99  2323.0   2916.0  \n",
       "10254.0       5.0   734.0     99.99  4955.0   1900.0  \n",
       "10702.0       NaN   583.0     29.99   664.0    253.0  "
      ]
     },
     "execution_count": 52,
     "metadata": {},
     "output_type": "execute_result"
    }
   ],
   "source": [
    "columns=['theme', 'subtheme', 'year', 'name', 'minifigs', 'pieces', 'us_price', 'owner', 'want_it']\n",
    "lego_df=lego_df[columns]\n",
    "lego_df.head()"
   ]
  },
  {
   "cell_type": "code",
   "execution_count": 53,
   "metadata": {},
   "outputs": [
    {
     "data": {
      "text/html": [
       "<div>\n",
       "<style>\n",
       "    .dataframe thead tr:only-child th {\n",
       "        text-align: right;\n",
       "    }\n",
       "\n",
       "    .dataframe thead th {\n",
       "        text-align: left;\n",
       "    }\n",
       "\n",
       "    .dataframe tbody tr th {\n",
       "        vertical-align: top;\n",
       "    }\n",
       "</style>\n",
       "<table border=\"1\" class=\"dataframe\">\n",
       "  <thead>\n",
       "    <tr style=\"text-align: right;\">\n",
       "      <th></th>\n",
       "      <th>year</th>\n",
       "      <th>minifigs</th>\n",
       "      <th>pieces</th>\n",
       "      <th>us_price</th>\n",
       "      <th>owner</th>\n",
       "      <th>want_it</th>\n",
       "    </tr>\n",
       "  </thead>\n",
       "  <tbody>\n",
       "    <tr>\n",
       "      <th>count</th>\n",
       "      <td>438.0</td>\n",
       "      <td>320.000000</td>\n",
       "      <td>438.000000</td>\n",
       "      <td>438.000000</td>\n",
       "      <td>438.000000</td>\n",
       "      <td>438.000000</td>\n",
       "    </tr>\n",
       "    <tr>\n",
       "      <th>mean</th>\n",
       "      <td>2016.0</td>\n",
       "      <td>2.778125</td>\n",
       "      <td>309.408676</td>\n",
       "      <td>34.856438</td>\n",
       "      <td>2025.689498</td>\n",
       "      <td>723.933790</td>\n",
       "    </tr>\n",
       "    <tr>\n",
       "      <th>std</th>\n",
       "      <td>0.0</td>\n",
       "      <td>2.630450</td>\n",
       "      <td>549.443492</td>\n",
       "      <td>51.375083</td>\n",
       "      <td>1579.850469</td>\n",
       "      <td>609.538204</td>\n",
       "    </tr>\n",
       "    <tr>\n",
       "      <th>min</th>\n",
       "      <td>2016.0</td>\n",
       "      <td>1.000000</td>\n",
       "      <td>3.000000</td>\n",
       "      <td>3.490000</td>\n",
       "      <td>26.000000</td>\n",
       "      <td>21.000000</td>\n",
       "    </tr>\n",
       "    <tr>\n",
       "      <th>25%</th>\n",
       "      <td>2016.0</td>\n",
       "      <td>1.000000</td>\n",
       "      <td>63.000000</td>\n",
       "      <td>9.990000</td>\n",
       "      <td>833.500000</td>\n",
       "      <td>333.250000</td>\n",
       "    </tr>\n",
       "    <tr>\n",
       "      <th>50%</th>\n",
       "      <td>2016.0</td>\n",
       "      <td>2.000000</td>\n",
       "      <td>114.000000</td>\n",
       "      <td>19.990000</td>\n",
       "      <td>1602.000000</td>\n",
       "      <td>555.500000</td>\n",
       "    </tr>\n",
       "    <tr>\n",
       "      <th>75%</th>\n",
       "      <td>2016.0</td>\n",
       "      <td>4.000000</td>\n",
       "      <td>344.500000</td>\n",
       "      <td>39.990000</td>\n",
       "      <td>2954.250000</td>\n",
       "      <td>941.250000</td>\n",
       "    </tr>\n",
       "    <tr>\n",
       "      <th>max</th>\n",
       "      <td>2016.0</td>\n",
       "      <td>27.000000</td>\n",
       "      <td>4634.000000</td>\n",
       "      <td>499.990000</td>\n",
       "      <td>8300.000000</td>\n",
       "      <td>4949.000000</td>\n",
       "    </tr>\n",
       "  </tbody>\n",
       "</table>\n",
       "</div>"
      ],
      "text/plain": [
       "         year    minifigs       pieces    us_price        owner      want_it\n",
       "count   438.0  320.000000   438.000000  438.000000   438.000000   438.000000\n",
       "mean   2016.0    2.778125   309.408676   34.856438  2025.689498   723.933790\n",
       "std       0.0    2.630450   549.443492   51.375083  1579.850469   609.538204\n",
       "min    2016.0    1.000000     3.000000    3.490000    26.000000    21.000000\n",
       "25%    2016.0    1.000000    63.000000    9.990000   833.500000   333.250000\n",
       "50%    2016.0    2.000000   114.000000   19.990000  1602.000000   555.500000\n",
       "75%    2016.0    4.000000   344.500000   39.990000  2954.250000   941.250000\n",
       "max    2016.0   27.000000  4634.000000  499.990000  8300.000000  4949.000000"
      ]
     },
     "execution_count": 53,
     "metadata": {},
     "output_type": "execute_result"
    }
   ],
   "source": [
    "lego_df.describe()"
   ]
  },
  {
   "cell_type": "code",
   "execution_count": 54,
   "metadata": {
    "collapsed": true
   },
   "outputs": [],
   "source": [
    "%matplotlib inline"
   ]
  },
  {
   "cell_type": "code",
   "execution_count": 62,
   "metadata": {},
   "outputs": [
    {
     "data": {
      "text/plain": [
       "theme\n",
       "Collectable Minifigures    50\n",
       "Star Wars                  44\n",
       "City                       38\n",
       "Nexo Knights               30\n",
       "Duplo                      29\n",
       "Name: theme, dtype: int64"
      ]
     },
     "execution_count": 62,
     "metadata": {},
     "output_type": "execute_result"
    }
   ],
   "source": [
    "count_theme=lego_df.groupby('theme')['theme'].count()\n",
    "count_theme.sort_values(ascending=False).head()\n",
    "\n",
    "#ascending=False：大きい順"
   ]
  },
  {
   "cell_type": "code",
   "execution_count": 59,
   "metadata": {},
   "outputs": [
    {
     "data": {
      "text/plain": [
       "<matplotlib.axes._subplots.AxesSubplot at 0x110dce550>"
      ]
     },
     "execution_count": 59,
     "metadata": {},
     "output_type": "execute_result"
    },
    {
     "data": {
      "image/png": "[encoded data removed]",
      "text/plain": [
       "<matplotlib.figure.Figure at 0x110dbccc0>"
      ]
     },
     "metadata": {},
     "output_type": "display_data"
    }
   ],
   "source": [
    "theme_ranking10=count_theme.sort_values(ascending=False).head(10)\n",
    "theme_ranking10.plot.bar(figsize=(10,5))"
   ]
  },
  {
   "cell_type": "code",
   "execution_count": 63,
   "metadata": {},
   "outputs": [
    {
     "data": {
      "text/plain": [
       "<matplotlib.axes._subplots.AxesSubplot at 0x115dbaa90>"
      ]
     },
     "execution_count": 63,
     "metadata": {},
     "output_type": "execute_result"
    },
    {
     "data": {
      "image/png": "[encoded data removed]",
      "text/plain": [
       "<matplotlib.figure.Figure at 0x115db3198>"
      ]
     },
     "metadata": {},
     "output_type": "display_data"
    }
   ],
   "source": [
    "lego_df['us_price'].plot.hist(bins=20,grid=True, figsize=(8,5))"
   ]
  },
  {
   "cell_type": "code",
   "execution_count": 65,
   "metadata": {},
   "outputs": [
    {
     "data": {
      "text/plain": [
       "<matplotlib.axes._subplots.AxesSubplot at 0x1193c1da0>"
      ]
     },
     "execution_count": 65,
     "metadata": {},
     "output_type": "execute_result"
    },
    {
     "data": {
      "image/png": "[encoded data removed]",
      "text/plain": [
       "<matplotlib.figure.Figure at 0x1192360f0>"
      ]
     },
     "metadata": {},
     "output_type": "display_data"
    }
   ],
   "source": [
    "lego_df.plot.scatter(x='pieces',y='us_price', grid=True, figsize=(8,5))"
   ]
  },
  {
   "cell_type": "code",
   "execution_count": 66,
   "metadata": {},
   "outputs": [
    {
     "data": {
      "text/plain": [
       "<matplotlib.axes._subplots.AxesSubplot at 0x119438d30>"
      ]
     },
     "execution_count": 66,
     "metadata": {},
     "output_type": "execute_result"
    },
    {
     "data": {
      "image/png": "[encoded data removed]",
      "text/plain": [
       "<matplotlib.figure.Figure at 0x119443e10>"
      ]
     },
     "metadata": {},
     "output_type": "display_data"
    }
   ],
   "source": [
    "lego_df.plot.scatter(x='us_price',y='owner',grid=True, figsize=(5,5))"
   ]
  },
  {
   "cell_type": "code",
   "execution_count": 67,
   "metadata": {},
   "outputs": [
    {
     "data": {
      "text/html": [
       "<div>\n",
       "<style>\n",
       "    .dataframe thead tr:only-child th {\n",
       "        text-align: right;\n",
       "    }\n",
       "\n",
       "    .dataframe thead th {\n",
       "        text-align: left;\n",
       "    }\n",
       "\n",
       "    .dataframe tbody tr th {\n",
       "        vertical-align: top;\n",
       "    }\n",
       "</style>\n",
       "<table border=\"1\" class=\"dataframe\">\n",
       "  <thead>\n",
       "    <tr style=\"text-align: right;\">\n",
       "      <th></th>\n",
       "      <th>minifigs</th>\n",
       "      <th>pieces</th>\n",
       "      <th>us_price</th>\n",
       "      <th>owner</th>\n",
       "      <th>want_it</th>\n",
       "    </tr>\n",
       "  </thead>\n",
       "  <tbody>\n",
       "    <tr>\n",
       "      <th>minifigs</th>\n",
       "      <td>1.0000</td>\n",
       "      <td>0.7002</td>\n",
       "      <td>0.7606</td>\n",
       "      <td>-0.1161</td>\n",
       "      <td>0.4841</td>\n",
       "    </tr>\n",
       "    <tr>\n",
       "      <th>pieces</th>\n",
       "      <td>0.7002</td>\n",
       "      <td>1.0000</td>\n",
       "      <td>0.9446</td>\n",
       "      <td>0.0027</td>\n",
       "      <td>0.6595</td>\n",
       "    </tr>\n",
       "    <tr>\n",
       "      <th>us_price</th>\n",
       "      <td>0.7606</td>\n",
       "      <td>0.9446</td>\n",
       "      <td>1.0000</td>\n",
       "      <td>-0.0651</td>\n",
       "      <td>0.6242</td>\n",
       "    </tr>\n",
       "    <tr>\n",
       "      <th>owner</th>\n",
       "      <td>-0.1161</td>\n",
       "      <td>0.0027</td>\n",
       "      <td>-0.0651</td>\n",
       "      <td>1.0000</td>\n",
       "      <td>0.4951</td>\n",
       "    </tr>\n",
       "    <tr>\n",
       "      <th>want_it</th>\n",
       "      <td>0.4841</td>\n",
       "      <td>0.6595</td>\n",
       "      <td>0.6242</td>\n",
       "      <td>0.4951</td>\n",
       "      <td>1.0000</td>\n",
       "    </tr>\n",
       "  </tbody>\n",
       "</table>\n",
       "</div>"
      ],
      "text/plain": [
       "          minifigs  pieces  us_price   owner  want_it\n",
       "minifigs    1.0000  0.7002    0.7606 -0.1161   0.4841\n",
       "pieces      0.7002  1.0000    0.9446  0.0027   0.6595\n",
       "us_price    0.7606  0.9446    1.0000 -0.0651   0.6242\n",
       "owner      -0.1161  0.0027   -0.0651  1.0000   0.4951\n",
       "want_it     0.4841  0.6595    0.6242  0.4951   1.0000"
      ]
     },
     "execution_count": 67,
     "metadata": {},
     "output_type": "execute_result"
    }
   ],
   "source": [
    "lego_df[['minifigs','pieces','us_price','owner', 'want_it']].corr().round(4)"
   ]
  },
  {
   "cell_type": "code",
   "execution_count": 69,
   "metadata": {},
   "outputs": [
    {
     "data": {
      "text/plain": [
       "(0.94462114898306215, 4.1838940534637179e-213)"
      ]
     },
     "execution_count": 69,
     "metadata": {},
     "output_type": "execute_result"
    }
   ],
   "source": [
    "from scipy.stats import pearsonr, linregress\n",
    "pearsonr(lego_df['pieces'],lego_df['us_price'])"
   ]
  },
  {
   "cell_type": "code",
   "execution_count": 72,
   "metadata": {},
   "outputs": [
    {
     "data": {
      "text/plain": [
       "52.0"
      ]
     },
     "execution_count": 72,
     "metadata": {},
     "output_type": "execute_result"
    }
   ],
   "source": [
    "slope, intercept,rvalue,pvalue,stderr=linregress(lego_df['pieces'],lego_df['us_price'])\n",
    "                                                                           \n",
    "pieces=500\n",
    "\n",
    "price=slope*pieces+intercept\n",
    "round(price)"
   ]
  },
  {
   "cell_type": "code",
   "execution_count": 74,
   "metadata": {
    "collapsed": true
   },
   "outputs": [],
   "source": [
    "#改めて回帰式を取得\n",
    "SLOPE,INTERCEPT,rvalue,pvalue,stder=linregress(lego_df['pieces'],lego_df['us_price'])\n",
    "\n",
    "\n",
    "def get_price(pieces):\n",
    "    return pieces*SLOPE+INTERCEPT"
   ]
  },
  {
   "cell_type": "code",
   "execution_count": 76,
   "metadata": {},
   "outputs": [
    {
     "data": {
      "image/png": "[encoded data removed]",
      "text/plain": [
       "<matplotlib.figure.Figure at 0x1a1afed278>"
      ]
     },
     "metadata": {},
     "output_type": "display_data"
    }
   ],
   "source": [
    "from matplotlib import pyplot as plt\n",
    "\n",
    "figure=plt.figure(figsize=(8,8))\n",
    "ax1=figure.add_subplot(111)\n",
    "\n",
    "#散布図のお描画先として作成したax1を指定\n",
    "lego_df.plot.scatter(ax=ax1,x='pieces', y='us_price', grid=True,color='c')\n",
    "\n",
    "#x軸となるpiecesの最大値を取得\n",
    "max_pieace=lego_df['pieces'].max()\n",
    "\n",
    "x=[0,max_pieace]\n",
    "y=[get_price(0),get_price(max_pieace)]\n",
    "\n",
    "ax1.plot(x,y)\n",
    "\n",
    "plt.show()"
   ]
  },
  {
   "cell_type": "code",
   "execution_count": null,
   "metadata": {
    "collapsed": true
   },
   "outputs": [],
   "source": []
  }
 ],
 "metadata": {
  "kernelspec": {
   "display_name": "Python 3",
   "language": "python",
   "name": "python3"
  },
  "language_info": {
   "codemirror_mode": {
    "name": "ipython",
    "version": 3
   },
   "file_extension": ".py",
   "mimetype": "text/x-python",
   "name": "python",
   "nbconvert_exporter": "python",
   "pygments_lexer": "ipython3",
   "version": "3.6.2"
  }
 },
 "nbformat": 4,
 "nbformat_minor": 2
}
